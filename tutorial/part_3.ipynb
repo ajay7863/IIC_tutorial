{
 "cells": [
  {
   "cell_type": "markdown",
   "metadata": {},
   "source": [
    "# Part 3: Practice"
   ]
  },
  {
   "cell_type": "markdown",
   "metadata": {},
   "source": [
    "This is the last part of IIC tutorial. Here we try to use for clustering and semi-supervised classification of MNIST.\n",
    "Some useful functions are implemented in utils.py Feel free to look there if you want to understand how the work in detail."
   ]
  },
  {
   "cell_type": "markdown",
   "metadata": {},
   "source": [
    "If you a working in Google colab you need to do  a coouple of additional moves. First, go to \"Runtime\" menu, click on \"Cnage runtme type\", and select GPU option in \"Runtime type\n",
    "Hardware accelerator\" menu. After this run the cell below. After the execution is finished, restart the runtime."
   ]
  },
  {
   "cell_type": "code",
   "execution_count": 44,
   "metadata": {},
   "outputs": [
    {
     "name": "stdout",
     "output_type": "stream",
     "text": [
      "/bin/bash: wger: command not found\n",
      "  % Total    % Received % Xferd  Average Speed   Time    Time     Time  Current\n",
      "                                 Dload  Upload   Total   Spent    Left  Speed\n",
      "100  8796  100  8796    0     0  76486      0 --:--:-- --:--:-- --:--:-- 76486\n",
      "  % Total    % Received % Xferd  Average Speed   Time    Time     Time  Current\n",
      "                                 Dload  Upload   Total   Spent    Left  Speed\n",
      "100  5887  100  5887    0     0  55018      0 --:--:-- --:--:-- --:--:-- 55018\n"
     ]
    }
   ],
   "source": [
    "!curl https://raw.githubusercontent.com/vandedok/IIC_tutorial/master/requirements.txt --output requirements.txt\n",
    "!curl https://raw.githubusercontent.com/vandedok/IIC_tutorial/master/tutorial/utils.py --output utils.py\n",
    "!curl https://raw.githubusercontent.com/vandedok/IIC_tutorial/master/tutorial/preprocess.py --output preprocess.py\n",
    "!pip install -r requirements.txt"
   ]
  },
  {
   "cell_type": "markdown",
   "metadata": {},
   "source": [
    "Imports"
   ]
  },
  {
   "cell_type": "code",
   "execution_count": 2,
   "metadata": {},
   "outputs": [],
   "source": [
    "import random\n",
    "import os\n",
    "import sys\n",
    "from tqdm.notebook import tqdm\n",
    "\n",
    "import warnings\n",
    "warnings.simplefilter(action='ignore', category=FutureWarning)\n",
    "# warnings.simplefilter(action='ignore', category=UserWarning)\n",
    "import numpy as np\n",
    "import torch\n",
    "from torch import nn\n",
    "import albumentations as A\n",
    "import torchvision.models as models\n",
    "\n",
    "from torch.utils.data import Dataset, DataLoader\n",
    "\n",
    "from sklearn.metrics import adjusted_rand_score, accuracy_score\n",
    "from sklearn.metrics.cluster import homogeneity_score, completeness_score\n",
    "\n",
    "from utils import  visualize_augmentations, weight_init, print_while_trainig, get_cluster_labeling, visualise_clusetering_results, stratified_split\n",
    "from utils import create_mapping, print_mapping\n",
    "from preprocess import create_MNIST_dataset_with_preprocessed_augs"
   ]
  },
  {
   "cell_type": "code",
   "execution_count": 3,
   "metadata": {},
   "outputs": [],
   "source": [
    "#This  will enable automatic downloading of MNIST\n",
    "from six.moves import urllib\n",
    "opener = urllib.request.build_opener()\n",
    "opener.addheaders = [('User-agent', 'Mozilla/5.0')]\n",
    "urllib.request.install_opener(opener)"
   ]
  },
  {
   "cell_type": "code",
   "execution_count": 4,
   "metadata": {},
   "outputs": [
    {
     "data": {
      "text/plain": [
       "<torch._C.Generator at 0x7fb399c98b70>"
      ]
     },
     "execution_count": 4,
     "metadata": {},
     "output_type": "execute_result"
    }
   ],
   "source": [
    "#Fix torch randomization for reproducability\n",
    "torch.manual_seed(42)"
   ]
  },
  {
   "cell_type": "markdown",
   "metadata": {},
   "source": [
    "## Preprocessing the data"
   ]
  },
  {
   "cell_type": "markdown",
   "metadata": {},
   "source": [
    "First of all we define the augmentations, which are on of the keys to IIC approach. I use Albumentations library to compose horizontal flips, rotations, perspective changes, superpixels, noise, brightness and contrast transforms. Each of theses transforms can be applied with a certain probability to input image."
   ]
  },
  {
   "cell_type": "code",
   "execution_count": 5,
   "metadata": {
    "tags": []
   },
   "outputs": [],
   "source": [
    "alb_transforms= A.Compose([\n",
    "    A.HorizontalFlip(),\n",
    "    A.Rotate(limit=40, p=0.7),\n",
    "    A.IAAPerspective(scale=(0.1, 0.1), p=0.7),\n",
    "    A.IAASuperpixels(p_replace=0.3, p=0.7),\n",
    "    A.IAAAdditiveGaussianNoise(scale = ( 0.1 * 255 , 0.2 * 255 ), p=0.7),\n",
    "    A.RandomBrightnessContrast(brightness_limit=0.5, contrast_limit=0.6, p=0.7)\n",
    "])"
   ]
  },
  {
   "cell_type": "markdown",
   "metadata": {},
   "source": [
    "Now we need to define a dataset\n",
    "\n",
    "We can do it in a usual way, by inheriting MNIST dataset class and editing the transforms call in ```__getitem__``` method like [here](https://pytorch.org/tutorials/beginner/data_loading_tutorial.html). However this approach has a huge drawback -- at each call a new augmentation is computed, so during the training a lot of time is spent not for the forward and backward runs, but to get an augmented batch. To avoid this, we precompute the augmentations in advance  and save them as np files. \n",
    "\n",
    "I implemented this approach in the ```preprocessing``` module. The function ```create_MNIST_dataset_with_preprocessed_augs```  downloads MNIST to ```DATASET_DIR```, saves the images and the data as np files, computes the augmentations and then saves the augmented images in np files. It's possible to choose a number of augmentations (default is 10) -- the same number of np files will created, each of them containin a dataset augmented only one time."
   ]
  },
  {
   "cell_type": "markdown",
   "metadata": {},
   "source": [
    "<span style=\"font-size:larger;\">WARNING: this line can take several minutes to run.</span>"
   ]
  },
  {
   "cell_type": "code",
   "execution_count": null,
   "metadata": {},
   "outputs": [],
   "source": []
  },
  {
   "cell_type": "code",
   "execution_count": 6,
   "metadata": {},
   "outputs": [
    {
     "ename": "NameError",
     "evalue": "name 'train_dataset_array' is not defined",
     "output_type": "error",
     "traceback": [
      "\u001b[0;31m---------------------------------------------------------------------------\u001b[0m",
      "\u001b[0;31mNameError\u001b[0m                                 Traceback (most recent call last)",
      "\u001b[0;32m<ipython-input-6-228335087af7>\u001b[0m in \u001b[0;36m<module>\u001b[0;34m\u001b[0m\n\u001b[0;32m----> 1\u001b[0;31m \u001b[0mtrain_dataset_array\u001b[0m\u001b[0;34m.\u001b[0m\u001b[0mshape\u001b[0m\u001b[0;34m\u001b[0m\u001b[0;34m\u001b[0m\u001b[0m\n\u001b[0m",
      "\u001b[0;31mNameError\u001b[0m: name 'train_dataset_array' is not defined"
     ]
    }
   ],
   "source": [
    "train_dataset_array.shape"
   ]
  },
  {
   "cell_type": "code",
   "execution_count": 7,
   "metadata": {},
   "outputs": [],
   "source": [
    "def compose_array_from_dataloader(dataloader, key=\"original\"):\n",
    "    \"\"\"Creates a numpy array from a pytorch dataloader. \n",
    "           \n",
    "    Parameters\n",
    "    ----------\n",
    "    dataloader : torch.utils.data.dataloader.DataLoader\n",
    "        the initial dataloader providing data to be composed as numpy array \n",
    "    key : str\n",
    "        specifies what is going to be composed. \n",
    "        \"original\" stands for original MNIST dataset,\n",
    "        \"augmented\" stands for the aufgmented images,\n",
    "        \"label\" stands for annotations\n",
    "        \n",
    "    Returns\n",
    "    -------\n",
    "    output_array: numpy.array\n",
    "        The output array\n",
    "        If \"key\" param is \"original\" or \"augmented\" the array's shape is (N, H, W) where N = len(dataloader), H, W are images width and height\n",
    "        If \"key: param is \"label\" the output shape is (N,) where N = len(dataloader)      \n",
    "    \"\"\"\n",
    "\n",
    "    \n",
    "    sample = dataloader.dataset[0][key]\n",
    "    \n",
    "    if key == \"label\":\n",
    "        dtype = np.int\n",
    "        output_shape = [len(dataloader.dataset)]\n",
    "    else:\n",
    "        dtype = np.float32\n",
    "        output_shape = [len(dataloader.dataset)] + list(sample.shape)\n",
    "        \n",
    "    output_array = np.zeros(output_shape, dtype=dtype)\n",
    "    output_array.setflags(write=True)\n",
    "    global_batch_size = dataloader.batch_size\n",
    "    \n",
    "         \n",
    "\n",
    "    with tqdm(total=len(dataloader)) as pbar:\n",
    "        for idx, batch in enumerate(dataloader):\n",
    "            array_to_add = batch[key].numpy()\n",
    "            batch_size = array_to_add.shape[0]\n",
    "            output_array[global_batch_size*idx : global_batch_size*idx+batch_size] = array_to_add\n",
    "            pbar.update(1)\n",
    "            \n",
    "    return output_array"
   ]
  },
  {
   "cell_type": "code",
   "execution_count": 8,
   "metadata": {},
   "outputs": [],
   "source": [
    "AUG_NUMBER = 10\n",
    "DATASET_DIR = \"dataset\"\n",
    "# create_MNIST_dataset_with_preprocessed_augs(alb_transforms, target_dir=DATASET_DIR, batch_size=256, aug_number=AUG_NUMBER, num_workers=4)"
   ]
  },
  {
   "cell_type": "markdown",
   "metadata": {},
   "source": [
    "If you want to see, how  it is implemented, feel free to look at function code and docstrings in [preprocessing module](link_to_preprocessing_module). However for this tutorial it's sufficient to know, that at this stage several np files are created in the ```DATASET_DIR```: one containing the original MNIST, one containing the labels and several others of them containing the augmented versions of MNIST"
   ]
  },
  {
   "cell_type": "markdown",
   "metadata": {},
   "source": [
    "Now we create a new dataset class. It is storing original MNIST and it's augmentaions in RAM. When the  ```__getitem__``` method is called, it returns the original image, the label and the randomly chosen augmentation."
   ]
  },
  {
   "cell_type": "code",
   "execution_count": 18,
   "metadata": {},
   "outputs": [],
   "source": [
    "class NumpyRAMDataset(Dataset):\n",
    "    \"\"\"The dataset contatining the original and augmented data in RAM \n",
    "    \n",
    "    Attributes\n",
    "    ----------\n",
    "    original_numpy_file : str\n",
    "        path to .np file with original dataset\n",
    "    aug_numpy_files : list of str\n",
    "        list of paths to the .np files with augmented dataset versions\n",
    "    labels_file : str\n",
    "        path to a .np file with labels\n",
    "    original_dataset : numpy.ndarray\n",
    "        numpy array with original dataset \n",
    "    aug_datasets : list of numpy.ndarray\n",
    "        list of numpy arrays with augmented datasets\n",
    "    aug_number : int\n",
    "        number of augmentations\n",
    "    labels: numpy.ndarray\n",
    "        numpy array with labels\n",
    "        \n",
    "    \"\"\"\n",
    "    def __init__(self, original_images_array, labels_array, augs_array_list):\n",
    "        \"\"\" Datasetataset initialisation\n",
    "            \n",
    "        Parameters\n",
    "        ----------\n",
    "        original_numpy_file : str\n",
    "            path to .np file with original dataset\n",
    "        aug_numpy_files : list of str or None\n",
    "            list of paths to the .np files with augmented dataset versions\n",
    "            if None no augs are used\n",
    "        labels_file : str\n",
    "            path to a .np file with labels\n",
    "        original_dataset : numpy.ndarray\n",
    "        \"\"\"\n",
    "\n",
    "        self.original_dataset = original_images_array\n",
    "        self.labels = labels_array\n",
    "        self.aug_datasets= augs_array_list\n",
    "        self.aug_number = len(self.aug_datasets)\n",
    "        \n",
    "        \n",
    "    def __len__(self):\n",
    "        \"\"\"returns the length of the dataset\"\"\"\n",
    "        return(self.original_dataset.shape[0] )\n",
    "        \n",
    "    def __getitem__(self, idx):\n",
    "        \"\"\"Returns the dataset sample and index idx\n",
    "        \n",
    "        Returns\n",
    "        -------\n",
    "        return_dict : dict\n",
    "            dict with the following keys:\n",
    "            \"original\" : numpy.ndarray\n",
    "                original image taken from self.original_dataset \n",
    "            \"aug\" : numpy.ndarray\n",
    "                augmented image taken randomly from one of self.aug_datasets\n",
    "            \"label\" : int\n",
    "                run label of the image taken form self.labels\n",
    "        \"\"\"\n",
    "        aug_version = int(self.aug_number * random.random())\n",
    "        return_dict = {\n",
    "            \"original\": self.original_dataset[idx:idx+1,:,:],\n",
    "            \"label\": self.labels[idx]\n",
    "        }\n",
    "        if len(self.aug_datasets) > 0:\n",
    "            return_dict[\"aug\"] = self.aug_datasets[aug_version][idx:idx+1,:,:]\n",
    "        \n",
    "        return return_dict"
   ]
  },
  {
   "cell_type": "code",
   "execution_count": null,
   "metadata": {},
   "outputs": [],
   "source": []
  },
  {
   "cell_type": "code",
   "execution_count": 11,
   "metadata": {},
   "outputs": [
    {
     "name": "stdout",
     "output_type": "stream",
     "text": [
      "Making aug #0\n"
     ]
    },
    {
     "data": {
      "application/vnd.jupyter.widget-view+json": {
       "model_id": "dd2a145688af4e0ab8a752276a82e23c",
       "version_major": 2,
       "version_minor": 0
      },
      "text/plain": [
       "  0%|          | 0/30 [00:00<?, ?it/s]"
      ]
     },
     "metadata": {},
     "output_type": "display_data"
    },
    {
     "name": "stdout",
     "output_type": "stream",
     "text": [
      "Making aug #1\n"
     ]
    },
    {
     "data": {
      "application/vnd.jupyter.widget-view+json": {
       "model_id": "a158fdd8363543efa02519cbb6ab1023",
       "version_major": 2,
       "version_minor": 0
      },
      "text/plain": [
       "  0%|          | 0/30 [00:00<?, ?it/s]"
      ]
     },
     "metadata": {},
     "output_type": "display_data"
    },
    {
     "name": "stdout",
     "output_type": "stream",
     "text": [
      "Making aug #2\n"
     ]
    },
    {
     "data": {
      "application/vnd.jupyter.widget-view+json": {
       "model_id": "8f8cc02ca3b247778860040e9e0b2771",
       "version_major": 2,
       "version_minor": 0
      },
      "text/plain": [
       "  0%|          | 0/30 [00:00<?, ?it/s]"
      ]
     },
     "metadata": {},
     "output_type": "display_data"
    },
    {
     "name": "stdout",
     "output_type": "stream",
     "text": [
      "Making aug #3\n"
     ]
    },
    {
     "data": {
      "application/vnd.jupyter.widget-view+json": {
       "model_id": "a0361fe2b42d4913b413b9fb75019e64",
       "version_major": 2,
       "version_minor": 0
      },
      "text/plain": [
       "  0%|          | 0/30 [00:00<?, ?it/s]"
      ]
     },
     "metadata": {},
     "output_type": "display_data"
    },
    {
     "name": "stdout",
     "output_type": "stream",
     "text": [
      "Making aug #4\n"
     ]
    },
    {
     "data": {
      "application/vnd.jupyter.widget-view+json": {
       "model_id": "245c435101714be7aa2767f96e6184e9",
       "version_major": 2,
       "version_minor": 0
      },
      "text/plain": [
       "  0%|          | 0/30 [00:00<?, ?it/s]"
      ]
     },
     "metadata": {},
     "output_type": "display_data"
    }
   ],
   "source": [
    "from preprocess import AlbMNIST\n",
    "num_workers = 11\n",
    "aug_number = 5\n",
    "dataset_alb = AlbMNIST('./dataset/MNIST', download=True)\n",
    "\n",
    "\n",
    "dataloader = DataLoader(dataset_alb, batch_size=len(dataset_alb), shuffle=False, num_workers=num_workers)\n",
    "\n",
    "\n",
    "originals_array = next(iter(dataloader))['original'].numpy()\n",
    "labels_array = next(iter(dataloader))['label'].numpy()\n",
    "\n",
    "dataset_alb.set_transofrms(alb_transforms)\n",
    "aug_arrays = []\n",
    "dataloader = DataLoader(dataset_alb, batch_size=2048, shuffle=False, num_workers=num_workers)\n",
    "\n",
    "for aug_idx in range(aug_number):\n",
    "    print(\"Making aug #%i\"%aug_idx)\n",
    "    aug_arrays.append(compose_array_from_dataloader(dataloader, key = \"augmented\"))"
   ]
  },
  {
   "cell_type": "code",
   "execution_count": 19,
   "metadata": {},
   "outputs": [],
   "source": [
    "dataset_np = NumpyRAMDataset(\n",
    "    original_images_array = originals_array,\n",
    "    labels_array = labels_array,\n",
    "    augs_array_list = aug_arrays\n",
    ")"
   ]
  },
  {
   "cell_type": "code",
   "execution_count": 12,
   "metadata": {},
   "outputs": [],
   "source": [
    "original_mnist_np_file = os.path.join(DATASET_DIR, \"mnist_original.np\")\n",
    "aug_mnist_np_files = [os.path.join(DATASET_DIR, \"mnist_aug_\" + str(i) + \".np\") for i in range(AUG_NUMBER)]\n",
    "labels_mnist_np_file = os.path.join(DATASET_DIR, \"mnist_labels.np\")\n",
    "\n",
    "dataset_np = NumpyAugDataset(\n",
    "    original_mnist_np_file,\n",
    "    aug_mnist_np_files,\n",
    "    labels_mnist_np_file\n",
    ")\n",
    "\n"
   ]
  },
  {
   "cell_type": "markdown",
   "metadata": {},
   "source": [
    "Now we perform the stratified train-val split of the dataset. This is needed for semi-supervised classification setting. The validation part will be small -- only 600 images. We assume, that the train part has no labels so we are are not going to use them. Stratification is needed to make sure that each class is represented equally in the test part."
   ]
  },
  {
   "cell_type": "code",
   "execution_count": 20,
   "metadata": {},
   "outputs": [],
   "source": [
    "dataset_train, dataset_val = stratified_split(dataset_np, train_size=0.99)"
   ]
  },
  {
   "cell_type": "markdown",
   "metadata": {},
   "source": [
    "Define the dataloaders:"
   ]
  },
  {
   "cell_type": "code",
   "execution_count": 21,
   "metadata": {},
   "outputs": [],
   "source": [
    "BATCH_SIZE = 2048\n",
    "dataloader_train = DataLoader(dataset_train, batch_size=BATCH_SIZE,\n",
    "                        shuffle=True, num_workers=16)\n",
    "dataloader_val = DataLoader(dataset_val, batch_size=BATCH_SIZE,\n",
    "                        shuffle=True, num_workers=16)"
   ]
  },
  {
   "cell_type": "markdown",
   "metadata": {},
   "source": [
    "It's useful to see how our augmentations look. It can be done with the ```visualize_augmentations``` from ```utils.py```. Each run will fetch random augmentations."
   ]
  },
  {
   "cell_type": "code",
   "execution_count": 22,
   "metadata": {},
   "outputs": [
    {
     "data": {
      "image/png": "[encoded data removed]",
      "text/plain": [
       "<Figure size 864x432 with 12 Axes>"
      ]
     },
     "metadata": {
      "needs_background": "light"
     },
     "output_type": "display_data"
    }
   ],
   "source": [
    "visualize_augmentations(dataset_val, samples=6)"
   ]
  },
  {
   "cell_type": "markdown",
   "metadata": {},
   "source": [
    "Great! We successfully  preprocessed the data and ready to build a model."
   ]
  },
  {
   "cell_type": "markdown",
   "metadata": {},
   "source": [
    "## The model"
   ]
  },
  {
   "cell_type": "markdown",
   "metadata": {},
   "source": [
    "It's time to define a clustering model based on resnet backbone. This is a really basic CV model with the only unusual part being the presence of two fully connected layers: clustering_head and overclustering_head. The latter one is needed to improve the learning process (see <a href=\"https://arxiv.org/abs/1807.06653\">original paper</a>  or appendix in [Part 1](https://github.com/vandedok/IIC_tutorial/blob/master/tutorial/part_1.ipynb) of this tutorial)."
   ]
  },
  {
   "cell_type": "markdown",
   "metadata": {},
   "source": [
    "Let's define a ResNet backbone, based, say, on  ResNat18 model. In IIC approach we don't expect the model to have any prior knowledge, so we set \"pretrained\" parameter to False."
   ]
  },
  {
   "cell_type": "code",
   "execution_count": 12,
   "metadata": {},
   "outputs": [],
   "source": [
    "resnet = models.resnet18(pretrained=False)"
   ]
  },
  {
   "cell_type": "markdown",
   "metadata": {},
   "source": [
    "First we want to get bare CNN backbone. This means, that we need to cut a couple of layers from the top of the model. To see, which ones we need to cut, lest print several last layers:"
   ]
  },
  {
   "cell_type": "code",
   "execution_count": 13,
   "metadata": {},
   "outputs": [
    {
     "name": "stdout",
     "output_type": "stream",
     "text": [
      "[Sequential(\n",
      "  (0): BasicBlock(\n",
      "    (conv1): Conv2d(256, 512, kernel_size=(3, 3), stride=(2, 2), padding=(1, 1), bias=False)\n",
      "    (bn1): BatchNorm2d(512, eps=1e-05, momentum=0.1, affine=True, track_running_stats=True)\n",
      "    (relu): ReLU(inplace=True)\n",
      "    (conv2): Conv2d(512, 512, kernel_size=(3, 3), stride=(1, 1), padding=(1, 1), bias=False)\n",
      "    (bn2): BatchNorm2d(512, eps=1e-05, momentum=0.1, affine=True, track_running_stats=True)\n",
      "    (downsample): Sequential(\n",
      "      (0): Conv2d(256, 512, kernel_size=(1, 1), stride=(2, 2), bias=False)\n",
      "      (1): BatchNorm2d(512, eps=1e-05, momentum=0.1, affine=True, track_running_stats=True)\n",
      "    )\n",
      "  )\n",
      "  (1): BasicBlock(\n",
      "    (conv1): Conv2d(512, 512, kernel_size=(3, 3), stride=(1, 1), padding=(1, 1), bias=False)\n",
      "    (bn1): BatchNorm2d(512, eps=1e-05, momentum=0.1, affine=True, track_running_stats=True)\n",
      "    (relu): ReLU(inplace=True)\n",
      "    (conv2): Conv2d(512, 512, kernel_size=(3, 3), stride=(1, 1), padding=(1, 1), bias=False)\n",
      "    (bn2): BatchNorm2d(512, eps=1e-05, momentum=0.1, affine=True, track_running_stats=True)\n",
      "  )\n",
      "), AdaptiveAvgPool2d(output_size=(1, 1)), Linear(in_features=512, out_features=1000, bias=True)]\n"
     ]
    }
   ],
   "source": [
    "print(list(resnet.children())[-3:])"
   ]
  },
  {
   "cell_type": "markdown",
   "metadata": {},
   "source": [
    "The layers to cut are AdaptiveAvgPool2d and Linear:"
   ]
  },
  {
   "cell_type": "code",
   "execution_count": 14,
   "metadata": {},
   "outputs": [],
   "source": [
    "modules_to_keep = list(resnet.children())[:-2]"
   ]
  },
  {
   "cell_type": "markdown",
   "metadata": {},
   "source": [
    "The original ResNet18 model is designed to process to color images. We can adapt it to grayscale images by modifying the first layer:"
   ]
  },
  {
   "cell_type": "code",
   "execution_count": 15,
   "metadata": {},
   "outputs": [
    {
     "name": "stdout",
     "output_type": "stream",
     "text": [
      "The first layer: Conv2d(3, 64, kernel_size=(7, 7), stride=(2, 2), padding=(3, 3), bias=False)\n"
     ]
    }
   ],
   "source": [
    "print(\"The first layer:\", modules_to_keep[0])"
   ]
  },
  {
   "cell_type": "markdown",
   "metadata": {},
   "source": [
    "All we need to do is to redefine this module with the same parameters except for the ```in_channels```:"
   ]
  },
  {
   "cell_type": "code",
   "execution_count": 16,
   "metadata": {},
   "outputs": [],
   "source": [
    "modules_to_keep[0] = nn.Conv2d(1, 64, kernel_size=(7, 7), stride=(2, 2), padding=(3, 3), bias=False)"
   ]
  },
  {
   "cell_type": "markdown",
   "metadata": {},
   "source": [
    "Now let's append Flatten layer and compose a backbone to see how many output features it has."
   ]
  },
  {
   "cell_type": "code",
   "execution_count": 17,
   "metadata": {},
   "outputs": [],
   "source": [
    "modules_to_keep.append(nn.Flatten())\n",
    "backbone = nn.Sequential(*modules_to_keep)"
   ]
  },
  {
   "cell_type": "markdown",
   "metadata": {},
   "source": [
    "To see the number of output features we define a batch of images. To speed up the computation we leave only tree images in our batch:"
   ]
  },
  {
   "cell_type": "code",
   "execution_count": 18,
   "metadata": {},
   "outputs": [
    {
     "name": "stdout",
     "output_type": "stream",
     "text": [
      "Batch shape: torch.Size([3, 1, 28, 28])\n"
     ]
    }
   ],
   "source": [
    "batch = next(iter(dataloader_train))['original']\n",
    "batch = batch[0:3]\n",
    "print(\"Batch shape:\", batch.shape)"
   ]
  },
  {
   "cell_type": "markdown",
   "metadata": {},
   "source": [
    "It's time to see how many features our backbone outputs:"
   ]
  },
  {
   "cell_type": "code",
   "execution_count": 19,
   "metadata": {},
   "outputs": [
    {
     "name": "stdout",
     "output_type": "stream",
     "text": [
      "Output shape: torch.Size([3, 512])\n"
     ]
    }
   ],
   "source": [
    "print(\"Output shape:\", backbone(batch).shape)"
   ]
  },
  {
   "cell_type": "markdown",
   "metadata": {},
   "source": [
    "It has 512 features. We will use it to define clustering and overclustering heads:"
   ]
  },
  {
   "cell_type": "code",
   "execution_count": 20,
   "metadata": {},
   "outputs": [],
   "source": [
    "final_features = 512\n",
    "cluster_head = nn.Linear(final_features, 10)\n",
    "overcluster_head = nn.Linear(final_features, 50)"
   ]
  },
  {
   "cell_type": "markdown",
   "metadata": {},
   "source": [
    "Now let's gather everything in an ```nn.Module```:"
   ]
  },
  {
   "cell_type": "code",
   "execution_count": 21,
   "metadata": {},
   "outputs": [],
   "source": [
    "class ResNetClusterisator(nn.Module):\n",
    "    \"\"\"Clusterisator for IIC based on ResNet18 backbone\"\"\"\n",
    "    \n",
    "    def __init__(self):\n",
    "        super(ResNetClusterisator, self).__init__()\n",
    "        # The number of output features we precomputed earlier\n",
    "        final_features = 512\n",
    "        \n",
    "        #Define the backbone:\n",
    "        resnet = models.resnet18(pretrained=False)\n",
    "        modules = list(resnet.children())[:-2]\n",
    "        modules[0] = nn.Conv2d(1, 64, kernel_size=(7, 7), stride=(2, 2), padding=(3, 3), bias=False)\n",
    "        modules.append(nn.Flatten())\n",
    "        self.backbone = nn.Sequential(*modules)\n",
    "        \n",
    "        #Define clustering and overculstering heads\n",
    "        self.cluster_head = nn.Linear(final_features, 10)\n",
    "        self.overcluster_head = nn.Linear(final_features, 50)\n",
    "        \n",
    "        #Define the softmax layer\n",
    "        self.softmax = nn.Softmax(dim=1)\n",
    "        \n",
    "    def forward(self, x, overclustering=False):\n",
    "        '''Foward run. Can operate in both clustering an overclustering regimes\n",
    "        \n",
    "        Paraneters\n",
    "        ----------\n",
    "        x : torch.tensor\n",
    "            input batch. The shape is supposed to be (B,1,28,28)\n",
    "            where B is batch size\n",
    "        overclustering : boolean\n",
    "            if True, the overclustering head is used\n",
    "            else the clustering head is used\n",
    "        '''\n",
    "        x = self.backbone(x)\n",
    "        if overclustering:\n",
    "            x = self.overcluster_head(x)\n",
    "        else:\n",
    "            x = self.cluster_head(x)\n",
    "            \n",
    "        return self.softmax(x)"
   ]
  },
  {
   "cell_type": "markdown",
   "metadata": {},
   "source": [
    "Now let's transfer our model to gpu and initialise the weights. Note, that in general different initialisations can result in signifcatnly different performance"
   ]
  },
  {
   "cell_type": "code",
   "execution_count": 22,
   "metadata": {},
   "outputs": [
    {
     "name": "stdout",
     "output_type": "stream",
     "text": [
      "Using cuda.\n",
      "The model is transfered to cuda.\n",
      "The weights are Initialised.\n"
     ]
    }
   ],
   "source": [
    "device = torch.device(\"cuda\" if torch.cuda.is_available() else \"cpu\")\n",
    "print(\"Using %s.\"%device)\n",
    "model = ResNetClusterisator()\n",
    "model.to(device)\n",
    "print(\"The model is transfered to %s.\"%device)\n",
    "model.apply(weight_init)\n",
    "print(\"The weights are Initialised.\")"
   ]
  },
  {
   "cell_type": "markdown",
   "metadata": {},
   "source": [
    "Let's check that everything is fine by making a forward run:"
   ]
  },
  {
   "cell_type": "code",
   "execution_count": 23,
   "metadata": {},
   "outputs": [
    {
     "name": "stdout",
     "output_type": "stream",
     "text": [
      "Model output shape in clustering mode: torch.Size([2048, 10])\n",
      "Model output shape in overclustering mode: torch.Size([2048, 10])\n"
     ]
    }
   ],
   "source": [
    "batch = next(iter(dataloader_train))['original']\n",
    "batch = batch.to(device)\n",
    "print(\"Model output shape in clustering mode:\", model(batch).shape)\n",
    "print(\"Model output shape in overclustering mode:\", model(batch).shape)"
   ]
  },
  {
   "cell_type": "markdown",
   "metadata": {},
   "source": [
    "Fine! Let's proceed to the loss function."
   ]
  },
  {
   "cell_type": "markdown",
   "metadata": {},
   "source": [
    "## Mutual information loss"
   ]
  },
  {
   "cell_type": "markdown",
   "metadata": {},
   "source": [
    "The second ingredient of IIC is a mutual information loss function. This code is based on the [original paper implementation](https://github.com/xu-ji/IIC/blob/master/code/utils/cluster/IID_losses.py#L6) with a minor changes. The mathematical details of  mutual information loss can be found in [Part 2](https://github.com/vandedok/IIC_tutorial/blob/master/tutorial/part_2.ipynb) of this tutorial."
   ]
  },
  {
   "cell_type": "markdown",
   "metadata": {},
   "source": [
    "First we compute the estimation of the joint probability distribution"
   ]
  },
  {
   "cell_type": "code",
   "execution_count": 24,
   "metadata": {},
   "outputs": [],
   "source": [
    "def compute_joint(x_out, x_tf_out):\n",
    "    ''' Estimate a joint probability distribution\n",
    "    \n",
    "    Parameters\n",
    "    ----------\n",
    "    x_out : torch.tensor\n",
    "        shape (B,C) where B is a batch size, C is a number of classes\n",
    "        probabilities for the original batch\n",
    "    x_out_tf: torch.tensor\n",
    "        the same shape as x_out\n",
    "        probabilities for the trasformed batch\n",
    "    \n",
    "    Returns\n",
    "    -------\n",
    "    p_i_j : torch.tensor\n",
    "        shape (C,C) where C is a number of classes (the same as in x_out)\n",
    "        joint probabilities\n",
    "    \n",
    "    '''       \n",
    "    # multiplying probabilities\n",
    "    p_i_j = x_out.unsqueeze(2) * x_tf_out.unsqueeze(1)  # bn, k, k\n",
    "    \n",
    "    # suminng over the batch_size\n",
    "    p_i_j = p_i_j.mean(dim=0)\n",
    "    \n",
    "    # Symmetriztion\n",
    "    p_i_j = (p_i_j + p_i_j.t()) / 2.\n",
    "\n",
    "    return p_i_j"
   ]
  },
  {
   "cell_type": "markdown",
   "metadata": {},
   "source": [
    "And than the mutual information. There is a couple of tricks used here. \n",
    "\n",
    "The first one is the regularization of joint probabilities. Recall, that what we compute mutual information we take the log of joints. When some joint probabilities $p_{ij}$ are small, $\\log p_{ij}$ may be too large to be stored in float, so the NaN value will be returned. To avoid this we take a small value $\\epsilon$ and replace with it all the joints which are less than $\\epsilon$:\n",
    "\n",
    "$$\\forall p_{ij} < \\epsilon: \\log(p_{ij}) ~~\\mathrm{is~replaced~with}~~ \\log(\\epsilon)$$\n",
    "\n",
    "Mathematically this correct, as those logarithms comes only in expressions as $p_{ij}\\log(p_{ij})$, which goes еo zero as $p_{ij}$ goes to zero.\n",
    "\n",
    "The second one is the additional minus sign on in front of the mutual information. As we applied it, we need to minimize, not to maximize our loss."
   ]
  },
  {
   "cell_type": "code",
   "execution_count": 25,
   "metadata": {},
   "outputs": [],
   "source": [
    "def IID_loss(x_out, x_tf_out, lamb=1.0, EPS=sys.float_info.epsilon):\n",
    "    ''' Compute mutual information loss. Theo overall minus sign is added so the loss should be minimized. \n",
    "    \n",
    "    Parameters\n",
    "    ----------\n",
    "    x_out : torch.tensor\n",
    "        shape (B,C) where B is a batch size, C is a number of classes\n",
    "        probabilities for the original batch\n",
    "    x_out_tf: torch.tensor\n",
    "        the same shape as x_out\n",
    "        probabilities for the trasformed batch\n",
    "    lambd : float\n",
    "        parameter modyfing the loss. \n",
    "        Larger lamb generally pushes the model towards putting\n",
    "        spreading the samples to the different clusters of equal sizes. \n",
    "        Smaller lambd pushes the model towards putting similar images to one cluster\n",
    "    EPS : float\n",
    "        parameter to regulerize small probabilities \n",
    "        \n",
    "    \n",
    "    Returns\n",
    "    -------\n",
    "    loss : torch.tensor\n",
    "        shape (1,). Mutual information loss\n",
    "    \n",
    "    '''       \n",
    "    _, num_classes = x_out.size()\n",
    "    \n",
    "    # Estimate joint probabilities\n",
    "    p_i_j = compute_joint(x_out, x_tf_out)\n",
    "    assert (p_i_j.size() == (num_classes, num_classes))\n",
    "    \n",
    "    # Trick to avoid NaN losses for small p_i_j\n",
    "    mask = ((p_i_j > EPS).data).type(torch.float32)\n",
    "    p_i_j = p_i_j * mask + EPS * (1 - mask)\n",
    "    \n",
    "    # Computing the marginals\n",
    "    p_i = p_i_j.sum(dim=1).view(num_classes, 1).expand(num_classes, num_classes)\n",
    "    p_j = p_i_j.sum(dim=0).view(1, num_classes).expand(num_classes,num_classes)  # but should be same, symmetric\n",
    "\n",
    "    #Compute the mutual information\n",
    "    loss =  - p_i_j * (torch.log(p_i_j) \\\n",
    "                    - lamb * torch.log(p_j) \\\n",
    "                    - lamb * torch.log(p_i))\n",
    "\n",
    "    loss = torch.sum(loss)\n",
    "\n",
    "    return loss"
   ]
  },
  {
   "cell_type": "markdown",
   "metadata": {},
   "source": [
    "Thats all about the loss implemetation. Now let's go to the traning!"
   ]
  },
  {
   "cell_type": "markdown",
   "metadata": {},
   "source": [
    "## Training"
   ]
  },
  {
   "cell_type": "markdown",
   "metadata": {},
   "source": [
    "Let's take a look at IIC forward run. Our train dataloader will give us batch with original images, transfomed images and labels:"
   ]
  },
  {
   "cell_type": "code",
   "execution_count": 26,
   "metadata": {},
   "outputs": [
    {
     "name": "stdout",
     "output_type": "stream",
     "text": [
      "Batch entities: dict_keys(['original', 'aug', 'label'])\n",
      "\n",
      "Original images batch shape:     torch.Size([2048, 1, 28, 28])\n",
      "Transformed images batch shape:  torch.Size([2048, 1, 28, 28])\n",
      "Labels batch shape:              torch.Size([2048])\n"
     ]
    }
   ],
   "source": [
    "batch = next(iter(dataloader_train))\n",
    "print(\"Batch entities:\", batch.keys(), end=\"\\n\\n\")\n",
    "print(\"Original images batch shape:     {0}\".format(batch['original'].shape))\n",
    "print(\"Transformed images batch shape:  {0}\".format(batch['aug'].shape))\n",
    "print(\"Labels batch shape:              {0}\".format(batch['label'].shape))\n"
   ]
  },
  {
   "cell_type": "markdown",
   "metadata": {},
   "source": [
    "We are not using labels in training. \n",
    "\n",
    "We begin the forward run with nullifying the gradients:"
   ]
  },
  {
   "cell_type": "markdown",
   "metadata": {},
   "source": [
    "Than we transfer batches to the gpu:"
   ]
  },
  {
   "cell_type": "code",
   "execution_count": 27,
   "metadata": {},
   "outputs": [],
   "source": [
    "inputs = batch[\"original\"]\n",
    "inputs_tf = batch[\"aug\"]\n",
    "\n",
    "inputs = inputs.to(device=device)\n",
    "inputs_tf = inputs_tf.to(device=device)"
   ]
  },
  {
   "cell_type": "markdown",
   "metadata": {},
   "source": [
    "The last thing to do is to compute the outputs, the loss and make a backward run:"
   ]
  },
  {
   "cell_type": "code",
   "execution_count": 28,
   "metadata": {},
   "outputs": [
    {
     "name": "stdout",
     "output_type": "stream",
     "text": [
      "-0.0009901393\n"
     ]
    }
   ],
   "source": [
    "overclustering = False\n",
    "lamb = 1.0\n",
    "outputs = model(inputs, overclustering)\n",
    "outputs_tf = model(inputs_tf, overclustering)\n",
    "loss = IID_loss(outputs, outputs_tf, lamb = lamb)\n",
    "print(loss.data.cpu().numpy())\n",
    "loss.backward()"
   ]
  },
  {
   "cell_type": "markdown",
   "metadata": {},
   "source": [
    "That's it! "
   ]
  },
  {
   "cell_type": "markdown",
   "metadata": {},
   "source": [
    "Before rushing into training we need a funtion to evaluate the loss. It just iterates over dataloader, makes the forward run and computes  the mean loss:"
   ]
  },
  {
   "cell_type": "code",
   "execution_count": 29,
   "metadata": {},
   "outputs": [],
   "source": [
    "def evaluate(model,dataloader, overclustering=False, lamb = 1., device=torch.device(\"cpu\")):\n",
    "    '''Calculates the model mean loss. The average is taken over the batches.\n",
    "    '''\n",
    "\n",
    "    losses = []\n",
    "    #switch model to the eval state to prevent the training\n",
    "    model.eval()\n",
    "    \n",
    "    for i, batch in enumerate(dataloader):\n",
    "            \n",
    "            #forward run\n",
    "            inputs = batch[\"original\"]\n",
    "            inputs_tf = batch[\"aug\"]\n",
    "            with torch.no_grad():   \n",
    "                              \n",
    "                inputs = inputs.to(device=device)\n",
    "                inputs_tf = inputs_tf.to(device=device)\n",
    "                \n",
    "                outputs = model(inputs, overclustering)\n",
    "                outputs_tf = model(inputs_tf, overclustering)\n",
    "                                  \n",
    "            loss = IID_loss(outputs, outputs_tf, lamb = lamb)\n",
    "            \n",
    "            #combining the losses for all batches into a single list\n",
    "            losses.append(loss.data.cpu().numpy())\n",
    "            \n",
    "    #output the mean loss\n",
    "    return np.mean(losses)"
   ]
  },
  {
   "cell_type": "markdown",
   "metadata": {},
   "source": [
    "Recall, that in [Part 1](https://github.com/vandedok/IIC_tutorial/blob/master/tutorial/part_1.ipynb) we discussed, that our model can greatly benefit from switching between clustering and overculstering. Here we implement it in a following way:"
   ]
  },
  {
   "cell_type": "code",
   "execution_count": 30,
   "metadata": {},
   "outputs": [],
   "source": [
    "def choose_clustering_regime(epoch, overcluster_period, overcluster_ratio):\n",
    "    '''Choice of the clustering regimy based on the epoch number\n",
    "    \n",
    "    Parameters\n",
    "    ----------\n",
    "    epoch : int\n",
    "        current epoch number    \n",
    "    overcluster_period : int\n",
    "        total period for both clustering and overclustering\n",
    "    overcluster_ratio : float\n",
    "        a fraction of time to spend on overclustering\n",
    "    '''\n",
    "    \n",
    "    if overcluster_period is not None and epoch % overcluster_period < overcluster_period * overcluster_ratio:\n",
    "        return True\n",
    "    else:\n",
    "        return False"
   ]
  },
  {
   "cell_type": "markdown",
   "metadata": {},
   "source": [
    "Now it's time to combine the forward run and the backward run in a training loop. I have also put some printing stuff here, so you can observe loss evolution during the training.  "
   ]
  },
  {
   "cell_type": "code",
   "execution_count": 31,
   "metadata": {},
   "outputs": [],
   "source": [
    "def IIC_train(\n",
    "    modeldataset, \n",
    "    dataloader, \n",
    "    optimizer, \n",
    "    epochs = 100, \n",
    "    device = torch.device(\"cpu\"), \n",
    "    eval_every = 5,\n",
    "    lamb = 1., \n",
    "    overcluster_period = 20, \n",
    "    overcluster_ratio = 0.5 \n",
    "):\n",
    "    '''IIC training loop\n",
    "    \n",
    "    Parameters\n",
    "    ----------\n",
    "    model : ResNetClusterisator\n",
    "        the IIC model to train\n",
    "    dataloader : torch.utils.data.dataloader.DataLoader\n",
    "        dataloader to fetch the data\n",
    "    optimizer : torch.optim.optimier like\n",
    "        your favourite optimzer\n",
    "    epochs : int\n",
    "        total number of epoches \n",
    "    device : torch.device\n",
    "        device which sould perform the trainig\n",
    "    eval_every : int\n",
    "        the freqency of evaluation\n",
    "    lamb : float\n",
    "        paramter to modyfy IID_loss (see IID_loss)\n",
    "    overcluster_period : int\n",
    "        total period for both clustering and overclustering\n",
    "    overcluster_ratio : float\n",
    "        a fraction of time to spend on overclustering \n",
    "    '''\n",
    "    \n",
    "    \n",
    "    #Lists to store epochs numbers and losses for visualisation\n",
    "    epochs_list = []\n",
    "    loss_history = []\n",
    "    loss_history_overclustering = []\n",
    "    \n",
    "    #Variables for best losses\n",
    "    best_cluster_loss = 0\n",
    "    best_overcluster_loss = 0\n",
    "\n",
    "    #Progress bar instance\n",
    "    pbar = tqdm(total=len(dataloader), leave=False, desc=\"Epoch\")\n",
    "    \n",
    "    for epoch in range(epochs):\n",
    "        \n",
    "        # Switching the model to train mode\n",
    "        model.train()\n",
    "        # Define where the epoch is dedicated to clustering or overclustering\n",
    "        overclustering = choose_clustering_regime(epoch, overcluster_period, overcluster_ratio)\n",
    "        \n",
    "        #Reseting the progress bar \n",
    "        pbar.reset()\n",
    "        pbar.desc = \"Epoch #%i\"%epoch \n",
    "        \n",
    "        for i, batch in enumerate(dataloader):\n",
    "                \n",
    "            #Nullifing the gradients    \n",
    "            optimizer.zero_grad()\n",
    "            \n",
    "            #Forward run\n",
    "            inputs = batch[\"original\"]\n",
    "            inputs_tf = batch[\"aug\"]\n",
    "\n",
    "            inputs = inputs.to(device=device)\n",
    "            inputs_tf = inputs_tf.to(device=device)\n",
    "\n",
    "            outputs = model(inputs, overclustering)\n",
    "            outputs_tf = model(inputs_tf, overclustering)\n",
    "            loss = IID_loss(outputs, outputs_tf, lamb = lamb)\n",
    "            \n",
    "            #Backward run\n",
    "            loss.backward()\n",
    "            \n",
    "            #Updating the weights\n",
    "            optimizer.step()\n",
    "            \n",
    "            #Updating the progreess bar\n",
    "            pbar.update(1)\n",
    "\n",
    "        #Evaluation section\n",
    "        if (epoch+1) % eval_every == 0:  \n",
    "\n",
    "            #Computing eval losses\n",
    "            loss_eval = evaluate(model, dataloader, overclustering=False, lamb=lamb, device=device)\n",
    "            loss_eval_overclustering = evaluate(model, dataloader, overclustering=True, lamb = lamb, device=device)\n",
    "\n",
    "            loss_history.append(loss_eval)\n",
    "            loss_history_overclustering.append(loss_eval_overclustering)\n",
    "            epochs_list.append(epoch)\n",
    "\n",
    "            #Saving the model with best evaluation loss\n",
    "            if loss_eval < best_cluster_loss:\n",
    "                best_cluster_loss = loss_eval\n",
    "                torch.save(model.state_dict(), \"best_loss_model\")\n",
    "\n",
    "            pbar.close() \n",
    "            \n",
    "            #Visualising the training\n",
    "            print_while_trainig(epochs_list, loss_history, loss_history_overclustering)\n",
    "            \n",
    "            pbar = tqdm(total=len(dataloader), leave=False, desc = \"Epoch\")\n"
   ]
  },
  {
   "cell_type": "markdown",
   "metadata": {},
   "source": [
    "Let's begin the training"
   ]
  },
  {
   "cell_type": "code",
   "execution_count": 32,
   "metadata": {},
   "outputs": [
    {
     "data": {
      "image/png": "[encoded data removed]",
      "text/plain": [
       "<Figure size 864x288 with 2 Axes>"
      ]
     },
     "metadata": {
      "needs_background": "light"
     },
     "output_type": "display_data"
    },
    {
     "data": {
      "application/vnd.jupyter.widget-view+json": {
       "model_id": "56eba0d57cfa416a869096643a406ad4",
       "version_major": 2,
       "version_minor": 0
      },
      "text/plain": [
       "Epoch:   0%|          | 0/30 [00:00<?, ?it/s]"
      ]
     },
     "metadata": {},
     "output_type": "display_data"
    }
   ],
   "source": [
    "optimizer = torch.optim.Adam(model.parameters(), lr=4e-4, betas=(0.9, 0.999), eps=1e-08, weight_decay=0, amsgrad=False)\n",
    "IIC_train(model, dataloader_train,  optimizer, device=device, epochs=60, lamb=1.2, overcluster_period=20, overcluster_ratio=0.5)"
   ]
  },
  {
   "cell_type": "markdown",
   "metadata": {},
   "source": [
    "You should see a non-monotonously decaying line. When the model in the clustering mode, overclusetring loss can grow and vice versa. However after about 70 epochs the clustering loss reaches plateau and the training can be stopped."
   ]
  },
  {
   "cell_type": "markdown",
   "metadata": {},
   "source": [
    "## Evaluation"
   ]
  },
  {
   "cell_type": "markdown",
   "metadata": {},
   "source": [
    "It's time to evaluate our models performance. Firstly we load the model which showed the best loss on train data: "
   ]
  },
  {
   "cell_type": "markdown",
   "metadata": {},
   "source": [
    "### Clustering"
   ]
  },
  {
   "cell_type": "code",
   "execution_count": 33,
   "metadata": {},
   "outputs": [
    {
     "data": {
      "text/plain": [
       "<All keys matched successfully>"
      ]
     },
     "execution_count": 33,
     "metadata": {},
     "output_type": "execute_result"
    }
   ],
   "source": [
    "model.load_state_dict(torch.load(\"best_loss_model\"))"
   ]
  },
  {
   "cell_type": "markdown",
   "metadata": {},
   "source": [
    "Than we compose two labelings -- the original one and the one which is outputted by the model. Note, that in a fair clustering setting the original labels are not available, so this method is applicable only in testing _clustering method_ on a labeled dataset. "
   ]
  },
  {
   "cell_type": "code",
   "execution_count": 34,
   "metadata": {},
   "outputs": [],
   "source": [
    "original_labels, cluster_labels = get_cluster_labeling(model, dataloader_train, device=device)"
   ]
  },
  {
   "cell_type": "markdown",
   "metadata": {},
   "source": [
    "We visualize the results with a set of histograms. Each histograms corresponds to a certain original class and shows, how  clustering labels are distributed along this class. The best case is when all the histograms have a single huge bin. "
   ]
  },
  {
   "cell_type": "code",
   "execution_count": 35,
   "metadata": {},
   "outputs": [
    {
     "data": {
      "image/png": "[encoded data removed]",
      "text/plain": [
       "<Figure size 1440x288 with 10 Axes>"
      ]
     },
     "metadata": {
      "needs_background": "light"
     },
     "output_type": "display_data"
    }
   ],
   "source": [
    "visualise_clusetering_results(original_labels, cluster_labels)"
   ]
  },
  {
   "cell_type": "markdown",
   "metadata": {},
   "source": [
    "We can also compute some clustering scores to get a numerical metrics of the clustering. Here I use [adjusted_rand_score](https://scikit-learn.org/stable/modules/generated/sklearn.metrics.adjusted_rand_score.html), [homogeneity_score](https://scikit-learn.org/stable/modules/generated/sklearn.metrics.homogeneity_score.html), [completeness_score](https://scikit-learn.org/stable/modules/generated/sklearn.metrics.completeness_score.html). The closer the values to ones, the better:"
   ]
  },
  {
   "cell_type": "code",
   "execution_count": 36,
   "metadata": {},
   "outputs": [
    {
     "name": "stdout",
     "output_type": "stream",
     "text": [
      "Adjusted rand score: 0.875 \n",
      "Homogeneity score: 0.875 \n",
      "Completeness score: 0.879\n"
     ]
    }
   ],
   "source": [
    "adj_score = adjusted_rand_score(cluster_labels, original_labels)\n",
    "hom_score = homogeneity_score(cluster_labels, original_labels)\n",
    "compl_score = completeness_score(cluster_labels, original_labels)\n",
    "print(\"Adjusted rand score: %.3f \"%adj_score )\n",
    "print(\"Homogeneity score: %.3f \"%adj_score )\n",
    "print(\"Completeness score: %.3f\"%compl_score)"
   ]
  },
  {
   "cell_type": "markdown",
   "metadata": {},
   "source": [
    "### Semi-supervised classification"
   ]
  },
  {
   "cell_type": "markdown",
   "metadata": {},
   "source": [
    "To evaluate the model in semi-supervised classification setting, we use our val dataloader, which fetches the data previously unseen by the model"
   ]
  },
  {
   "cell_type": "code",
   "execution_count": 37,
   "metadata": {},
   "outputs": [],
   "source": [
    "original_labels, cluster_labels = get_cluster_labeling(model, dataloader_val, device=device)"
   ]
  },
  {
   "cell_type": "markdown",
   "metadata": {},
   "source": [
    "We visualize the labels in the same way as before:"
   ]
  },
  {
   "cell_type": "code",
   "execution_count": 38,
   "metadata": {},
   "outputs": [
    {
     "data": {
      "image/png": "[encoded data removed]",
      "text/plain": [
       "<Figure size 1440x288 with 10 Axes>"
      ]
     },
     "metadata": {
      "needs_background": "light"
     },
     "output_type": "display_data"
    }
   ],
   "source": [
    "visualise_clusetering_results(original_labels, cluster_labels)"
   ]
  },
  {
   "cell_type": "markdown",
   "metadata": {},
   "source": [
    "To compute usual classification metrics, we need to create a mapping from cluster labels to original labels. Function ```create_mapping``` does it by assigning the most frequent class present in the cluster:"
   ]
  },
  {
   "cell_type": "code",
   "execution_count": 39,
   "metadata": {},
   "outputs": [],
   "source": [
    "cluster_mapping = create_mapping(original_labels, cluster_labels)\n",
    "cluster_labels_mapped = [cluster_mapping[x] for x in cluster_labels]"
   ]
  },
  {
   "cell_type": "markdown",
   "metadata": {},
   "source": [
    "The mapping is:"
   ]
  },
  {
   "cell_type": "code",
   "execution_count": 40,
   "metadata": {},
   "outputs": [
    {
     "name": "stdout",
     "output_type": "stream",
     "text": [
      "Cluster  Class\n",
      "  0 -----> 0\n",
      "  1 -----> 1\n",
      "  2 -----> 8\n",
      "  3 -----> 6\n",
      "  4 -----> 2\n",
      "  5 -----> 9\n",
      "  6 -----> 3\n",
      "  7 -----> 4\n",
      "  8 -----> 7\n",
      "  9 -----> 5\n"
     ]
    }
   ],
   "source": [
    "print_mapping(cluster_mapping)"
   ]
  },
  {
   "cell_type": "markdown",
   "metadata": {},
   "source": [
    "Now the bins should be at the places which correspond to the original labels:"
   ]
  },
  {
   "cell_type": "code",
   "execution_count": 41,
   "metadata": {},
   "outputs": [
    {
     "data": {
      "image/png": "[encoded data removed]",
      "text/plain": [
       "<Figure size 1440x288 with 10 Axes>"
      ]
     },
     "metadata": {
      "needs_background": "light"
     },
     "output_type": "display_data"
    }
   ],
   "source": [
    "visualise_clusetering_results(original_labels, cluster_labels_mapped)"
   ]
  },
  {
   "cell_type": "markdown",
   "metadata": {},
   "source": [
    "The accuracy is:"
   ]
  },
  {
   "cell_type": "code",
   "execution_count": 42,
   "metadata": {},
   "outputs": [
    {
     "data": {
      "text/plain": [
       "0.9266666666666666"
      ]
     },
     "execution_count": 42,
     "metadata": {},
     "output_type": "execute_result"
    }
   ],
   "source": [
    "accuracy_score(original_labels, cluster_labels_mapped)"
   ]
  },
  {
   "cell_type": "markdown",
   "metadata": {},
   "source": [
    "If the training was done correctly the accuracy should be grater than 0.9. The autors of the <a href=\"https://arxiv.org/abs/1807.06653\">original paper</a> achieved the accuracy of 99.2%"
   ]
  },
  {
   "cell_type": "markdown",
   "metadata": {},
   "source": [
    "## Conclusion"
   ]
  },
  {
   "cell_type": "markdown",
   "metadata": {},
   "source": [
    "If everything went well, by this line you have successfully trained and evaluated IIC model. Congrats!"
   ]
  }
 ],
 "metadata": {
  "kernelspec": {
   "display_name": "iic_tutorial_venv",
   "language": "python",
   "name": "iic_tutorial_venv"
  },
  "language_info": {
   "codemirror_mode": {
    "name": "ipython",
    "version": 3
   },
   "file_extension": ".py",
   "mimetype": "text/x-python",
   "name": "python",
   "nbconvert_exporter": "python",
   "pygments_lexer": "ipython3",
   "version": "3.8.5"
  }
 },
 "nbformat": 4,
 "nbformat_minor": 4
}
